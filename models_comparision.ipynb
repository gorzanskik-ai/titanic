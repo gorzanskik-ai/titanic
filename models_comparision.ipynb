{
  "nbformat": 4,
  "nbformat_minor": 0,
  "metadata": {
    "colab": {
      "provenance": [],
      "authorship_tag": "ABX9TyPL2zLwNUHvfMZjFqDnnY24",
      "include_colab_link": true
    },
    "kernelspec": {
      "name": "python3",
      "display_name": "Python 3"
    },
    "language_info": {
      "name": "python"
    }
  },
  "cells": [
    {
      "cell_type": "markdown",
      "metadata": {
        "id": "view-in-github",
        "colab_type": "text"
      },
      "source": [
        "<a href=\"https://colab.research.google.com/github/gorzanskik-ai/titanic/blob/main/models_comparision.ipynb\" target=\"_parent\"><img src=\"https://colab.research.google.com/assets/colab-badge.svg\" alt=\"Open In Colab\"/></a>"
      ]
    },
    {
      "cell_type": "code",
      "execution_count": 57,
      "metadata": {
        "id": "L0hKwO_vd6pU",
        "colab": {
          "base_uri": "https://localhost:8080/"
        },
        "outputId": "aacd6971-01e3-4eed-af13-2ef23dcd5cd5"
      },
      "outputs": [
        {
          "output_type": "stream",
          "name": "stdout",
          "text": [
            "Drive already mounted at /content/drive; to attempt to forcibly remount, call drive.mount(\"/content/drive\", force_remount=True).\n"
          ]
        }
      ],
      "source": [
        "from google.colab import drive\n",
        "drive.mount('/content/drive')\n",
        "path_train = '/content/drive/MyDrive/machine learning/projects/titanic/train2.csv'\n",
        "path_test = '/content/drive/MyDrive/machine learning/projects/titanic/test2.csv'"
      ]
    },
    {
      "cell_type": "code",
      "source": [
        "import pandas as pd\n",
        "import numpy as np\n",
        "import matplotlib.pyplot as plt\n",
        "\n",
        "from sklearn.linear_model import LogisticRegression\n",
        "from sklearn.neighbors import KNeighborsClassifier\n",
        "from sklearn.tree import DecisionTreeClassifier\n",
        "from sklearn.ensemble import RandomForestClassifier\n",
        "from sklearn.svm import SVC\n",
        "from sklearn.naive_bayes import GaussianNB\n",
        "from sklearn.model_selection import GridSearchCV, cross_val_score"
      ],
      "metadata": {
        "id": "moe2DSEqiY8T"
      },
      "execution_count": 75,
      "outputs": []
    },
    {
      "cell_type": "code",
      "source": [
        "train = pd.read_csv(path_train)\n",
        "test = pd.read_csv(path_test)\n",
        "\n",
        "X_train = train.drop(\"Survived\", axis=1).to_numpy()\n",
        "y_train = train[\"Survived\"].to_numpy()\n",
        "X_test  = test.to_numpy()"
      ],
      "metadata": {
        "id": "NeXVy3W3idjj"
      },
      "execution_count": 59,
      "outputs": []
    },
    {
      "cell_type": "code",
      "source": [
        "from sklearn.preprocessing import StandardScaler\n",
        "\n",
        "scaler = StandardScaler()\n",
        "scaler.fit(X_train)\n",
        "\n",
        "X_train = scaler.transform(X_train)\n",
        "X_test = scaler.transform(X_test)"
      ],
      "metadata": {
        "id": "-tLA141EyIG3"
      },
      "execution_count": 60,
      "outputs": []
    },
    {
      "cell_type": "markdown",
      "source": [
        "Logistic regression"
      ],
      "metadata": {
        "id": "munoqsdcrK_l"
      }
    },
    {
      "cell_type": "code",
      "source": [
        "lr = LogisticRegression()\n",
        "\n",
        "lr_scores = cross_val_score(estimator=lr, X=X_train, y=y_train, cv=10)\n",
        "print(lr_scores)\n",
        "print(f'mean: {round(lr_scores.mean() * 100, 2)} %')\n",
        "print(f'std: {round(lr_scores.std() * 100, 2)} %')"
      ],
      "metadata": {
        "colab": {
          "base_uri": "https://localhost:8080/"
        },
        "id": "59QQaSfEzfAS",
        "outputId": "c8d3c152-bf88-4a9b-b7ea-9793e0229c21"
      },
      "execution_count": 61,
      "outputs": [
        {
          "output_type": "stream",
          "name": "stdout",
          "text": [
            "[0.81111111 0.79775281 0.76404494 0.87640449 0.80898876 0.7752809\n",
            " 0.79775281 0.82022472 0.82022472 0.80898876]\n",
            "mean: 80.81 %\n",
            "std: 2.86 %\n"
          ]
        }
      ]
    },
    {
      "cell_type": "markdown",
      "source": [
        "KNeighbors"
      ],
      "metadata": {
        "id": "xA5CBRXWyXX1"
      }
    },
    {
      "cell_type": "code",
      "source": [
        "kn = KNeighborsClassifier()\n",
        "params = {'n_neighbors': np.arange(1, 15),\n",
        "          'weights': ['uniform', 'distance'],\n",
        "          'metric': ['euclidean', 'manhattan', 'minkowski']}\n",
        "\n",
        "grid_search = GridSearchCV(estimator=kn, param_grid=params, scoring='accuracy', cv=10)\n",
        "grid_search.fit(X_train, y_train)\n",
        "grid_search.best_params_"
      ],
      "metadata": {
        "colab": {
          "base_uri": "https://localhost:8080/"
        },
        "id": "ZAgp1Ou-1Vos",
        "outputId": "1c3cc96b-a01b-4635-9d4a-82415662eea0"
      },
      "execution_count": 62,
      "outputs": [
        {
          "output_type": "execute_result",
          "data": {
            "text/plain": [
              "{'metric': 'manhattan', 'n_neighbors': 9, 'weights': 'uniform'}"
            ]
          },
          "metadata": {},
          "execution_count": 62
        }
      ]
    },
    {
      "cell_type": "code",
      "source": [
        "kn = KNeighborsClassifier(n_neighbors= 9, weights= 'uniform', metric='manhattan')\n",
        "kn_scores = cross_val_score(estimator=kn, X=X_train, y=y_train, cv=10)\n",
        "print(kn_scores)\n",
        "print(f'mean: {round(kn_scores.mean() * 100, 2)} %')\n",
        "print(f'std: {round(kn_scores.std() * 100, 2)} %')"
      ],
      "metadata": {
        "colab": {
          "base_uri": "https://localhost:8080/"
        },
        "id": "cDTDN39o2iZR",
        "outputId": "1ed86af4-7368-497e-dacd-c338e8c18be5"
      },
      "execution_count": 63,
      "outputs": [
        {
          "output_type": "stream",
          "name": "stdout",
          "text": [
            "[0.8        0.87640449 0.76404494 0.88764045 0.88764045 0.83146067\n",
            " 0.80898876 0.79775281 0.87640449 0.83146067]\n",
            "mean: 83.62 %\n",
            "std: 4.16 %\n"
          ]
        }
      ]
    },
    {
      "cell_type": "markdown",
      "source": [
        "Decision tree"
      ],
      "metadata": {
        "id": "ldAomOEc3Jmg"
      }
    },
    {
      "cell_type": "code",
      "source": [
        "dt = DecisionTreeClassifier()\n",
        "params = {'max_depth': np.arange(1, 7),\n",
        "          'criterion': ['gini', 'entropy'],\n",
        "          'min_samples_leaf': [1, 5, 10, 25, 50, 70],\n",
        "          'min_samples_split': [2, 4, 10, 12, 16, 18, 25, 35]}\n",
        "\n",
        "grid_search = GridSearchCV(estimator=dt, param_grid=params, scoring='accuracy', cv=10)\n",
        "grid_search.fit(X_train, y_train)\n",
        "grid_search.best_params_"
      ],
      "metadata": {
        "colab": {
          "base_uri": "https://localhost:8080/"
        },
        "id": "GZbb5I544y_J",
        "outputId": "aea4462e-6865-4b85-d24a-972644b1bd9a"
      },
      "execution_count": 64,
      "outputs": [
        {
          "output_type": "execute_result",
          "data": {
            "text/plain": [
              "{'criterion': 'entropy',\n",
              " 'max_depth': 3,\n",
              " 'min_samples_leaf': 1,\n",
              " 'min_samples_split': 2}"
            ]
          },
          "metadata": {},
          "execution_count": 64
        }
      ]
    },
    {
      "cell_type": "code",
      "source": [
        "dt = DecisionTreeClassifier(max_depth=3, criterion='entropy', min_samples_leaf=1, min_samples_split=2)\n",
        "dt_scores = cross_val_score(estimator=dt, X=X_train, y=y_train, cv=10)\n",
        "print(dt_scores)\n",
        "print(f'mean: {round(dt_scores.mean() * 100, 2)} %')\n",
        "print(f'std: {round(dt_scores.std() * 100, 2)} %')"
      ],
      "metadata": {
        "colab": {
          "base_uri": "https://localhost:8080/"
        },
        "id": "6KjGH-666KvB",
        "outputId": "130b3ea8-35df-4566-f671-5fd2e0324c62"
      },
      "execution_count": 65,
      "outputs": [
        {
          "output_type": "stream",
          "name": "stdout",
          "text": [
            "[0.83333333 0.87640449 0.7752809  0.87640449 0.84269663 0.80898876\n",
            " 0.80898876 0.78651685 0.85393258 0.85393258]\n",
            "mean: 83.16 %\n",
            "std: 3.37 %\n"
          ]
        }
      ]
    },
    {
      "cell_type": "markdown",
      "source": [
        "Random forest"
      ],
      "metadata": {
        "id": "uz8Ns5PV7YmC"
      }
    },
    {
      "cell_type": "code",
      "source": [
        "rf = RandomForestClassifier()\n",
        "params = {'max_depth': np.arange(1, 7),\n",
        "          'criterion': ['gini', 'entropy'],\n",
        "          'min_samples_leaf': [1, 5, 10],\n",
        "          'min_samples_split': [2, 4, 10, 12],\n",
        "          'n_estimators': [100, 200, 300]}\n",
        "\n",
        "grid_search = GridSearchCV(estimator=rf, param_grid=params, scoring='accuracy', cv=10)\n",
        "grid_search.fit(X_train, y_train)\n",
        "grid_search.best_params_"
      ],
      "metadata": {
        "colab": {
          "base_uri": "https://localhost:8080/"
        },
        "id": "YE39pSkb8uCT",
        "outputId": "a2ed8966-fcbf-4999-9bca-721fca7f653e"
      },
      "execution_count": 66,
      "outputs": [
        {
          "output_type": "execute_result",
          "data": {
            "text/plain": [
              "{'criterion': 'entropy',\n",
              " 'max_depth': 6,\n",
              " 'min_samples_leaf': 1,\n",
              " 'min_samples_split': 4,\n",
              " 'n_estimators': 100}"
            ]
          },
          "metadata": {},
          "execution_count": 66
        }
      ]
    },
    {
      "cell_type": "code",
      "source": [
        "rf = RandomForestClassifier(max_depth=6, criterion='entropy', min_samples_leaf=1, min_samples_split=4, n_estimators=100)\n",
        "rf_scores = cross_val_score(estimator=rf, X=X_train, y=y_train, cv=10)\n",
        "print(rf_scores)\n",
        "print(f'mean: {round(rf_scores.mean() * 100, 2)} %')\n",
        "print(f'std: {round(rf_scores.std() * 100, 2)} %')"
      ],
      "metadata": {
        "colab": {
          "base_uri": "https://localhost:8080/"
        },
        "id": "1BqrNkZPFQce",
        "outputId": "326afd2f-3417-464e-c9bd-ae8477e6692f"
      },
      "execution_count": 69,
      "outputs": [
        {
          "output_type": "stream",
          "name": "stdout",
          "text": [
            "[0.81111111 0.86516854 0.7752809  0.83146067 0.87640449 0.79775281\n",
            " 0.84269663 0.78651685 0.86516854 0.84269663]\n",
            "mean: 82.94 %\n",
            "std: 3.35 %\n"
          ]
        }
      ]
    },
    {
      "cell_type": "markdown",
      "source": [
        "SVM"
      ],
      "metadata": {
        "id": "KU1WR5P1GJvo"
      }
    },
    {
      "cell_type": "code",
      "source": [
        "svc = SVC()\n",
        "params = {'C': [0.1,1, 10, 100],\n",
        "          'gamma': [1, 0.1 ,0.01 ,0.001],\n",
        "          'kernel': ['linear', 'rbf', 'poly', 'sigmoid']}\n",
        "\n",
        "grid_search = GridSearchCV(estimator=svc, param_grid=params, scoring='accuracy', cv=10)\n",
        "grid_search.fit(X_train, y_train)\n",
        "grid_search.best_params_"
      ],
      "metadata": {
        "colab": {
          "base_uri": "https://localhost:8080/"
        },
        "id": "V5jn1UDtGK0u",
        "outputId": "14c9c842-e4eb-4855-f1ca-4802a434d94c"
      },
      "execution_count": 71,
      "outputs": [
        {
          "output_type": "execute_result",
          "data": {
            "text/plain": [
              "{'C': 100, 'gamma': 0.01, 'kernel': 'rbf'}"
            ]
          },
          "metadata": {},
          "execution_count": 71
        }
      ]
    },
    {
      "cell_type": "code",
      "source": [
        "svc = SVC(C=100, gamma=0.01, kernel='rbf')\n",
        "svc_scores = cross_val_score(estimator=svc, X=X_train, y=y_train, cv=10)\n",
        "print(svc_scores)\n",
        "print(f'mean: {round(svc_scores.mean() * 100, 2)} %')\n",
        "print(f'std: {round(svc_scores.std() * 100, 2)} %')"
      ],
      "metadata": {
        "colab": {
          "base_uri": "https://localhost:8080/"
        },
        "id": "mCJJd0mPL2CJ",
        "outputId": "3158b0df-79ed-4a29-ecfb-d7e7ab4c46fe"
      },
      "execution_count": 72,
      "outputs": [
        {
          "output_type": "stream",
          "name": "stdout",
          "text": [
            "[0.81111111 0.85393258 0.76404494 0.87640449 0.87640449 0.78651685\n",
            " 0.80898876 0.7752809  0.85393258 0.83146067]\n",
            "mean: 82.38 %\n",
            "std: 3.89 %\n"
          ]
        }
      ]
    },
    {
      "cell_type": "markdown",
      "source": [
        "Naive Bayes"
      ],
      "metadata": {
        "id": "Cm3ojfq0MR6I"
      }
    },
    {
      "cell_type": "code",
      "source": [
        "nb = GaussianNB()\n",
        "nb_scores = cross_val_score(estimator=nb, X=X_train, y=y_train, cv=10)\n",
        "print(svc_scores)\n",
        "print(f'mean: {round(nb_scores.mean() * 100, 2)} %')\n",
        "print(f'std: {round(nb_scores.std() * 100, 2)} %')"
      ],
      "metadata": {
        "colab": {
          "base_uri": "https://localhost:8080/"
        },
        "id": "XWyM252TMUiK",
        "outputId": "7a77545a-a3b8-46b5-eac9-b470dcb2fe59"
      },
      "execution_count": 73,
      "outputs": [
        {
          "output_type": "stream",
          "name": "stdout",
          "text": [
            "[0.81111111 0.85393258 0.76404494 0.87640449 0.87640449 0.78651685\n",
            " 0.80898876 0.7752809  0.85393258 0.83146067]\n",
            "mean: 77.34 %\n",
            "std: 3.8 %\n"
          ]
        }
      ]
    },
    {
      "cell_type": "markdown",
      "source": [
        "Results"
      ],
      "metadata": {
        "id": "0JcPTzipRUmp"
      }
    },
    {
      "cell_type": "code",
      "source": [
        "means = []\n",
        "stds = []\n",
        "ranges = []\n",
        "for i in [lr_scores, kn_scores, dt_scores, rf_scores, svc_scores, nb_scores]:\n",
        "    mean = round(i.mean() * 100, 2)\n",
        "    std = round(i.std() * 100, 2)\n",
        "    means.append(mean)\n",
        "    stds.append(std)\n",
        "    ranges.append(f'[{round(mean - std, 2)} - {round(mean + std, 2)}]')\n",
        "\n",
        "models = ['Linear Regression', 'KNeighbors', 'Decision Tree', 'Random Forest', 'SVC', 'Naive Bayes']\n",
        "results = pd.DataFrame({'mean_accuracy': means, '+- std': stds, 'range': ranges}, index=models)\n",
        "\n",
        "\n",
        "results.plot.bar()\n",
        "plt.title('Mean accuracy +- std')\n",
        "\n",
        "results.sort_values(by=['mean_accuracy'], ascending=False)"
      ],
      "metadata": {
        "colab": {
          "base_uri": "https://localhost:8080/",
          "height": 782
        },
        "id": "ZXxGm3MnP0Wo",
        "outputId": "8c8d1fa7-fb07-4124-eeaf-57ec80e5f426"
      },
      "execution_count": 92,
      "outputs": [
        {
          "output_type": "execute_result",
          "data": {
            "text/plain": [
              "                   mean_accuracy  +- std            range\n",
              "KNeighbors                 83.62    4.16  [79.46 - 87.78]\n",
              "Decision Tree              83.16    3.37  [79.79 - 86.53]\n",
              "Random Forest              82.94    3.35  [79.59 - 86.29]\n",
              "SVC                        82.38    3.89  [78.49 - 86.27]\n",
              "Linear Regression          80.81    2.86  [77.95 - 83.67]\n",
              "Naive Bayes                77.34    3.80  [73.54 - 81.14]"
            ],
            "text/html": [
              "\n",
              "  <div id=\"df-10464f88-3f93-45fb-9675-3789f4c45cee\" class=\"colab-df-container\">\n",
              "    <div>\n",
              "<style scoped>\n",
              "    .dataframe tbody tr th:only-of-type {\n",
              "        vertical-align: middle;\n",
              "    }\n",
              "\n",
              "    .dataframe tbody tr th {\n",
              "        vertical-align: top;\n",
              "    }\n",
              "\n",
              "    .dataframe thead th {\n",
              "        text-align: right;\n",
              "    }\n",
              "</style>\n",
              "<table border=\"1\" class=\"dataframe\">\n",
              "  <thead>\n",
              "    <tr style=\"text-align: right;\">\n",
              "      <th></th>\n",
              "      <th>mean_accuracy</th>\n",
              "      <th>+- std</th>\n",
              "      <th>range</th>\n",
              "    </tr>\n",
              "  </thead>\n",
              "  <tbody>\n",
              "    <tr>\n",
              "      <th>KNeighbors</th>\n",
              "      <td>83.62</td>\n",
              "      <td>4.16</td>\n",
              "      <td>[79.46 - 87.78]</td>\n",
              "    </tr>\n",
              "    <tr>\n",
              "      <th>Decision Tree</th>\n",
              "      <td>83.16</td>\n",
              "      <td>3.37</td>\n",
              "      <td>[79.79 - 86.53]</td>\n",
              "    </tr>\n",
              "    <tr>\n",
              "      <th>Random Forest</th>\n",
              "      <td>82.94</td>\n",
              "      <td>3.35</td>\n",
              "      <td>[79.59 - 86.29]</td>\n",
              "    </tr>\n",
              "    <tr>\n",
              "      <th>SVC</th>\n",
              "      <td>82.38</td>\n",
              "      <td>3.89</td>\n",
              "      <td>[78.49 - 86.27]</td>\n",
              "    </tr>\n",
              "    <tr>\n",
              "      <th>Linear Regression</th>\n",
              "      <td>80.81</td>\n",
              "      <td>2.86</td>\n",
              "      <td>[77.95 - 83.67]</td>\n",
              "    </tr>\n",
              "    <tr>\n",
              "      <th>Naive Bayes</th>\n",
              "      <td>77.34</td>\n",
              "      <td>3.80</td>\n",
              "      <td>[73.54 - 81.14]</td>\n",
              "    </tr>\n",
              "  </tbody>\n",
              "</table>\n",
              "</div>\n",
              "    <div class=\"colab-df-buttons\">\n",
              "\n",
              "  <div class=\"colab-df-container\">\n",
              "    <button class=\"colab-df-convert\" onclick=\"convertToInteractive('df-10464f88-3f93-45fb-9675-3789f4c45cee')\"\n",
              "            title=\"Convert this dataframe to an interactive table.\"\n",
              "            style=\"display:none;\">\n",
              "\n",
              "  <svg xmlns=\"http://www.w3.org/2000/svg\" height=\"24px\" viewBox=\"0 -960 960 960\">\n",
              "    <path d=\"M120-120v-720h720v720H120Zm60-500h600v-160H180v160Zm220 220h160v-160H400v160Zm0 220h160v-160H400v160ZM180-400h160v-160H180v160Zm440 0h160v-160H620v160ZM180-180h160v-160H180v160Zm440 0h160v-160H620v160Z\"/>\n",
              "  </svg>\n",
              "    </button>\n",
              "\n",
              "  <style>\n",
              "    .colab-df-container {\n",
              "      display:flex;\n",
              "      gap: 12px;\n",
              "    }\n",
              "\n",
              "    .colab-df-convert {\n",
              "      background-color: #E8F0FE;\n",
              "      border: none;\n",
              "      border-radius: 50%;\n",
              "      cursor: pointer;\n",
              "      display: none;\n",
              "      fill: #1967D2;\n",
              "      height: 32px;\n",
              "      padding: 0 0 0 0;\n",
              "      width: 32px;\n",
              "    }\n",
              "\n",
              "    .colab-df-convert:hover {\n",
              "      background-color: #E2EBFA;\n",
              "      box-shadow: 0px 1px 2px rgba(60, 64, 67, 0.3), 0px 1px 3px 1px rgba(60, 64, 67, 0.15);\n",
              "      fill: #174EA6;\n",
              "    }\n",
              "\n",
              "    .colab-df-buttons div {\n",
              "      margin-bottom: 4px;\n",
              "    }\n",
              "\n",
              "    [theme=dark] .colab-df-convert {\n",
              "      background-color: #3B4455;\n",
              "      fill: #D2E3FC;\n",
              "    }\n",
              "\n",
              "    [theme=dark] .colab-df-convert:hover {\n",
              "      background-color: #434B5C;\n",
              "      box-shadow: 0px 1px 3px 1px rgba(0, 0, 0, 0.15);\n",
              "      filter: drop-shadow(0px 1px 2px rgba(0, 0, 0, 0.3));\n",
              "      fill: #FFFFFF;\n",
              "    }\n",
              "  </style>\n",
              "\n",
              "    <script>\n",
              "      const buttonEl =\n",
              "        document.querySelector('#df-10464f88-3f93-45fb-9675-3789f4c45cee button.colab-df-convert');\n",
              "      buttonEl.style.display =\n",
              "        google.colab.kernel.accessAllowed ? 'block' : 'none';\n",
              "\n",
              "      async function convertToInteractive(key) {\n",
              "        const element = document.querySelector('#df-10464f88-3f93-45fb-9675-3789f4c45cee');\n",
              "        const dataTable =\n",
              "          await google.colab.kernel.invokeFunction('convertToInteractive',\n",
              "                                                    [key], {});\n",
              "        if (!dataTable) return;\n",
              "\n",
              "        const docLinkHtml = 'Like what you see? Visit the ' +\n",
              "          '<a target=\"_blank\" href=https://colab.research.google.com/notebooks/data_table.ipynb>data table notebook</a>'\n",
              "          + ' to learn more about interactive tables.';\n",
              "        element.innerHTML = '';\n",
              "        dataTable['output_type'] = 'display_data';\n",
              "        await google.colab.output.renderOutput(dataTable, element);\n",
              "        const docLink = document.createElement('div');\n",
              "        docLink.innerHTML = docLinkHtml;\n",
              "        element.appendChild(docLink);\n",
              "      }\n",
              "    </script>\n",
              "  </div>\n",
              "\n",
              "\n",
              "<div id=\"df-2b242c71-c4f9-4188-8b6c-476e049cf1ae\">\n",
              "  <button class=\"colab-df-quickchart\" onclick=\"quickchart('df-2b242c71-c4f9-4188-8b6c-476e049cf1ae')\"\n",
              "            title=\"Suggest charts.\"\n",
              "            style=\"display:none;\">\n",
              "\n",
              "<svg xmlns=\"http://www.w3.org/2000/svg\" height=\"24px\"viewBox=\"0 0 24 24\"\n",
              "     width=\"24px\">\n",
              "    <g>\n",
              "        <path d=\"M19 3H5c-1.1 0-2 .9-2 2v14c0 1.1.9 2 2 2h14c1.1 0 2-.9 2-2V5c0-1.1-.9-2-2-2zM9 17H7v-7h2v7zm4 0h-2V7h2v10zm4 0h-2v-4h2v4z\"/>\n",
              "    </g>\n",
              "</svg>\n",
              "  </button>\n",
              "\n",
              "<style>\n",
              "  .colab-df-quickchart {\n",
              "      --bg-color: #E8F0FE;\n",
              "      --fill-color: #1967D2;\n",
              "      --hover-bg-color: #E2EBFA;\n",
              "      --hover-fill-color: #174EA6;\n",
              "      --disabled-fill-color: #AAA;\n",
              "      --disabled-bg-color: #DDD;\n",
              "  }\n",
              "\n",
              "  [theme=dark] .colab-df-quickchart {\n",
              "      --bg-color: #3B4455;\n",
              "      --fill-color: #D2E3FC;\n",
              "      --hover-bg-color: #434B5C;\n",
              "      --hover-fill-color: #FFFFFF;\n",
              "      --disabled-bg-color: #3B4455;\n",
              "      --disabled-fill-color: #666;\n",
              "  }\n",
              "\n",
              "  .colab-df-quickchart {\n",
              "    background-color: var(--bg-color);\n",
              "    border: none;\n",
              "    border-radius: 50%;\n",
              "    cursor: pointer;\n",
              "    display: none;\n",
              "    fill: var(--fill-color);\n",
              "    height: 32px;\n",
              "    padding: 0;\n",
              "    width: 32px;\n",
              "  }\n",
              "\n",
              "  .colab-df-quickchart:hover {\n",
              "    background-color: var(--hover-bg-color);\n",
              "    box-shadow: 0 1px 2px rgba(60, 64, 67, 0.3), 0 1px 3px 1px rgba(60, 64, 67, 0.15);\n",
              "    fill: var(--button-hover-fill-color);\n",
              "  }\n",
              "\n",
              "  .colab-df-quickchart-complete:disabled,\n",
              "  .colab-df-quickchart-complete:disabled:hover {\n",
              "    background-color: var(--disabled-bg-color);\n",
              "    fill: var(--disabled-fill-color);\n",
              "    box-shadow: none;\n",
              "  }\n",
              "\n",
              "  .colab-df-spinner {\n",
              "    border: 2px solid var(--fill-color);\n",
              "    border-color: transparent;\n",
              "    border-bottom-color: var(--fill-color);\n",
              "    animation:\n",
              "      spin 1s steps(1) infinite;\n",
              "  }\n",
              "\n",
              "  @keyframes spin {\n",
              "    0% {\n",
              "      border-color: transparent;\n",
              "      border-bottom-color: var(--fill-color);\n",
              "      border-left-color: var(--fill-color);\n",
              "    }\n",
              "    20% {\n",
              "      border-color: transparent;\n",
              "      border-left-color: var(--fill-color);\n",
              "      border-top-color: var(--fill-color);\n",
              "    }\n",
              "    30% {\n",
              "      border-color: transparent;\n",
              "      border-left-color: var(--fill-color);\n",
              "      border-top-color: var(--fill-color);\n",
              "      border-right-color: var(--fill-color);\n",
              "    }\n",
              "    40% {\n",
              "      border-color: transparent;\n",
              "      border-right-color: var(--fill-color);\n",
              "      border-top-color: var(--fill-color);\n",
              "    }\n",
              "    60% {\n",
              "      border-color: transparent;\n",
              "      border-right-color: var(--fill-color);\n",
              "    }\n",
              "    80% {\n",
              "      border-color: transparent;\n",
              "      border-right-color: var(--fill-color);\n",
              "      border-bottom-color: var(--fill-color);\n",
              "    }\n",
              "    90% {\n",
              "      border-color: transparent;\n",
              "      border-bottom-color: var(--fill-color);\n",
              "    }\n",
              "  }\n",
              "</style>\n",
              "\n",
              "  <script>\n",
              "    async function quickchart(key) {\n",
              "      const quickchartButtonEl =\n",
              "        document.querySelector('#' + key + ' button');\n",
              "      quickchartButtonEl.disabled = true;  // To prevent multiple clicks.\n",
              "      quickchartButtonEl.classList.add('colab-df-spinner');\n",
              "      try {\n",
              "        const charts = await google.colab.kernel.invokeFunction(\n",
              "            'suggestCharts', [key], {});\n",
              "      } catch (error) {\n",
              "        console.error('Error during call to suggestCharts:', error);\n",
              "      }\n",
              "      quickchartButtonEl.classList.remove('colab-df-spinner');\n",
              "      quickchartButtonEl.classList.add('colab-df-quickchart-complete');\n",
              "    }\n",
              "    (() => {\n",
              "      let quickchartButtonEl =\n",
              "        document.querySelector('#df-2b242c71-c4f9-4188-8b6c-476e049cf1ae button');\n",
              "      quickchartButtonEl.style.display =\n",
              "        google.colab.kernel.accessAllowed ? 'block' : 'none';\n",
              "    })();\n",
              "  </script>\n",
              "</div>\n",
              "    </div>\n",
              "  </div>\n"
            ]
          },
          "metadata": {},
          "execution_count": 92
        },
        {
          "output_type": "display_data",
          "data": {
            "text/plain": [
              "<Figure size 640x480 with 1 Axes>"
            ],
            "image/png": "[encoded data removed]"
          },
          "metadata": {}
        }
      ]
    },
    {
      "cell_type": "code",
      "source": [],
      "metadata": {
        "id": "lB7zp3wMsq66"
      },
      "execution_count": null,
      "outputs": []
    }
  ]
}